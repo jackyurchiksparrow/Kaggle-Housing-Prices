{
 "cells": [
  {
   "cell_type": "code",
   "execution_count": 4,
   "metadata": {},
   "outputs": [],
   "source": [
    "import pandas as pd\n",
    "import numpy as np\n",
    "import seaborn as sns\n",
    "import matplotlib.pyplot as plt\n",
    "from sklearn.preprocessing import OneHotEncoder"
   ]
  },
  {
   "cell_type": "code",
   "execution_count": 5,
   "metadata": {},
   "outputs": [],
   "source": [
    "df = pd.read_csv(\"train.csv\", index_col=\"Id\")"
   ]
  },
  {
   "cell_type": "code",
   "execution_count": 3,
   "metadata": {},
   "outputs": [],
   "source": [
    "df['LotFrontage'] = df.loc[df['LotFrontage']<160]['LotFrontage']\n",
    "df['LotFrontage'] = df.groupby('YearBuilt')['LotFrontage'].transform(lambda x: x.fillna(x.mean()))\n",
    "\n",
    "LotShape_dict = {'Reg': 0, 'IR1': 1, 'IR2': 2, 'IR3': 3}\n",
    "df['LotShape'] = [LotShape_dict[l] for l in df['LotShape']]\n",
    "df['LotArea'] = df.loc[df['LotArea']<60000]['LotArea']\n",
    "\n",
    "df['Alley'] = df['Alley'].fillna(\"NA\")\n",
    "\n",
    "# condition1 and condition2 have the same values, nominal should be only one\n",
    "encoder = OneHotEncoder() # Initialize the OneHotEncoder\n",
    "\n",
    "encoded_cond1 = encoder.fit_transform(df[['Condition1']])\n",
    "original_cond1_names = encoder.get_feature_names_out(['Condition1'])\n",
    "encoded_cond1_df = pd.DataFrame(encoded_cond1.toarray(), columns=original_cond1_names)\n",
    "\n",
    "encoded_cond2 = encoder.fit_transform(df[['Condition2']])\n",
    "original_cond2_names = encoder.get_feature_names_out(['Condition2'])\n",
    "encoded_cond2_df = pd.DataFrame(encoded_cond2.toarray(), columns=original_cond2_names)\n",
    "\n",
    "def df_union(df1, df2, prefix2, on=1):\n",
    "    combined_df = df1.copy()\n",
    "    \n",
    "    for i, row in df1.iterrows():\n",
    "        for col_name, _ in row.items():\n",
    "            df2_col_name = prefix2+\"_\"+col_name.split(\"_\")[1]\n",
    "            if df2_col_name in df2.columns.values:\n",
    "                if df2.loc[i][df2_col_name] == 1:\n",
    "                    combined_df.loc[i][col_name] = 1\n",
    "        \n",
    "    return combined_df\n",
    "\n",
    "\n",
    "encoded_conditions_df = df_union(encoded_cond1_df, encoded_cond2_df, \"Condition2\")\n",
    "df = df.drop([\"Condition1\", 'Condition2'], axis=1)\n",
    "df = df.append(encoded_conditions_df, ignore_index=True)\n",
    "\n",
    "df['HouseAge'] = df['YrSold'] - df['YearBuilt']\n",
    "df = df.drop('YrSold', axis=1)\n",
    "df = df.drop('MoSold', axis=1)\n",
    "df = df.drop('YearBuilt', axis=1)\n",
    "\n",
    "df['isRemodelled'] = df.apply(lambda x: 0 if x['YearRemodAdd'] == x['YearBuilt'] else 1, axis=1)\n",
    "df = df.drop('YearRemodAdd', axis=1)\n",
    "\n",
    " \n",
    "\n",
    "df = df.dropna(subset=['MasVnrType'])\n",
    "\n",
    "df['Fence'] = df['Fence'].fillna(\"NA\")"
   ]
  },
  {
   "cell_type": "code",
   "execution_count": null,
   "metadata": {},
   "outputs": [],
   "source": [
    "encoder = OneHotEncoder(sparse_output=False) # Initialize the OneHotEncoder\n",
    "encoded_data = encoder.fit_transform(df[['MSSubClass', 'MSZoning', 'BldgType', 'HouseStyle', 'Street', 'Alley', 'Neighborhood', 'Condition1', '', '', '', '', '', '', '', '', '', '', '', '', '', '', '', '', '', '', '', '']]) # Fit and transform the data\n",
    "column_names = encoder.get_feature_names_out(['GarageType']) # Create column names for the encoded variables\n",
    "df[column_names] = encoded_data # Concatenate the encoded columns to the original DataFrame"
   ]
  }
 ],
 "metadata": {
  "kernelspec": {
   "display_name": "Python 3",
   "language": "python",
   "name": "python3"
  },
  "language_info": {
   "codemirror_mode": {
    "name": "ipython",
    "version": 3
   },
   "file_extension": ".py",
   "mimetype": "text/x-python",
   "name": "python",
   "nbconvert_exporter": "python",
   "pygments_lexer": "ipython3",
   "version": "3.11.2"
  },
  "orig_nbformat": 4
 },
 "nbformat": 4,
 "nbformat_minor": 2
}
