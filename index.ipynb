{
 "cells": [
  {
   "cell_type": "code",
   "execution_count": 57,
   "metadata": {},
   "outputs": [],
   "source": [
    "import pandas as pd\n",
    "import numpy as np\n",
    "import seaborn as sns\n",
    "import matplotlib.pyplot as plt\n",
    "from sklearn.preprocessing import OneHotEncoder"
   ]
  },
  {
   "cell_type": "code",
   "execution_count": 58,
   "metadata": {},
   "outputs": [],
   "source": [
    "df = pd.read_csv(\"train.csv\", index_col=\"Id\")"
   ]
  },
  {
   "cell_type": "code",
   "execution_count": null,
   "metadata": {},
   "outputs": [],
   "source": []
  },
  {
   "cell_type": "code",
   "execution_count": 55,
   "metadata": {},
   "outputs": [
    {
     "ename": "AttributeError",
     "evalue": "'DataFrame' object has no attribute 'append'",
     "output_type": "error",
     "traceback": [
      "\u001b[1;31m---------------------------------------------------------------------------\u001b[0m",
      "\u001b[1;31mAttributeError\u001b[0m                            Traceback (most recent call last)",
      "Cell \u001b[1;32mIn[55], line 36\u001b[0m\n\u001b[0;32m     34\u001b[0m encoded_conditions_df \u001b[39m=\u001b[39m df_union(encoded_cond1_df, encoded_cond2_df, \u001b[39m\"\u001b[39m\u001b[39mCondition2\u001b[39m\u001b[39m\"\u001b[39m)\n\u001b[0;32m     35\u001b[0m df \u001b[39m=\u001b[39m df\u001b[39m.\u001b[39mdrop([\u001b[39m\"\u001b[39m\u001b[39mCondition1\u001b[39m\u001b[39m\"\u001b[39m, \u001b[39m'\u001b[39m\u001b[39mCondition2\u001b[39m\u001b[39m'\u001b[39m], axis\u001b[39m=\u001b[39m\u001b[39m1\u001b[39m)\n\u001b[1;32m---> 36\u001b[0m df \u001b[39m=\u001b[39m df\u001b[39m.\u001b[39;49mappend(encoded_conditions_df, ignore_index\u001b[39m=\u001b[39m\u001b[39mTrue\u001b[39;00m)\n\u001b[0;32m     38\u001b[0m df[\u001b[39m'\u001b[39m\u001b[39mHouseAge\u001b[39m\u001b[39m'\u001b[39m] \u001b[39m=\u001b[39m df[\u001b[39m'\u001b[39m\u001b[39mYrSold\u001b[39m\u001b[39m'\u001b[39m] \u001b[39m-\u001b[39m df[\u001b[39m'\u001b[39m\u001b[39mYearBuilt\u001b[39m\u001b[39m'\u001b[39m]\n\u001b[0;32m     39\u001b[0m df \u001b[39m=\u001b[39m df\u001b[39m.\u001b[39mdrop(\u001b[39m'\u001b[39m\u001b[39mYrSold\u001b[39m\u001b[39m'\u001b[39m, axis\u001b[39m=\u001b[39m\u001b[39m1\u001b[39m)\n",
      "File \u001b[1;32mc:\\Users\\Yur4ik\\AppData\\Local\\Programs\\Python\\Python311\\Lib\\site-packages\\pandas\\core\\generic.py:5989\u001b[0m, in \u001b[0;36mNDFrame.__getattr__\u001b[1;34m(self, name)\u001b[0m\n\u001b[0;32m   5982\u001b[0m \u001b[39mif\u001b[39;00m (\n\u001b[0;32m   5983\u001b[0m     name \u001b[39mnot\u001b[39;00m \u001b[39min\u001b[39;00m \u001b[39mself\u001b[39m\u001b[39m.\u001b[39m_internal_names_set\n\u001b[0;32m   5984\u001b[0m     \u001b[39mand\u001b[39;00m name \u001b[39mnot\u001b[39;00m \u001b[39min\u001b[39;00m \u001b[39mself\u001b[39m\u001b[39m.\u001b[39m_metadata\n\u001b[0;32m   5985\u001b[0m     \u001b[39mand\u001b[39;00m name \u001b[39mnot\u001b[39;00m \u001b[39min\u001b[39;00m \u001b[39mself\u001b[39m\u001b[39m.\u001b[39m_accessors\n\u001b[0;32m   5986\u001b[0m     \u001b[39mand\u001b[39;00m \u001b[39mself\u001b[39m\u001b[39m.\u001b[39m_info_axis\u001b[39m.\u001b[39m_can_hold_identifiers_and_holds_name(name)\n\u001b[0;32m   5987\u001b[0m ):\n\u001b[0;32m   5988\u001b[0m     \u001b[39mreturn\u001b[39;00m \u001b[39mself\u001b[39m[name]\n\u001b[1;32m-> 5989\u001b[0m \u001b[39mreturn\u001b[39;00m \u001b[39mobject\u001b[39;49m\u001b[39m.\u001b[39;49m\u001b[39m__getattribute__\u001b[39;49m(\u001b[39mself\u001b[39;49m, name)\n",
      "\u001b[1;31mAttributeError\u001b[0m: 'DataFrame' object has no attribute 'append'"
     ]
    }
   ],
   "source": [
    "df['LotFrontage'] = df.loc[df['LotFrontage']<160]['LotFrontage']\n",
    "df['LotFrontage'] = df.groupby('YearBuilt')['LotFrontage'].transform(lambda x: x.fillna(x.mean()))\n",
    "\n",
    "LotShape_dict = {'Reg': 0, 'IR1': 1, 'IR2': 2, 'IR3': 3}\n",
    "df['LotShape'] = df['LotShape'].map(LotShape_dict)\n",
    "\n",
    "df['LotArea'] = df.loc[df['LotArea']<60000]['LotArea']\n",
    "\n",
    "df['Alley'] = df['Alley'].fillna(\"NA\")\n",
    "\n",
    "# condition1 and condition2 have the same values, nominal should be only one\n",
    "encoder = OneHotEncoder() # Initialize the OneHotEncoder\n",
    "\n",
    "encoded_cond1 = encoder.fit_transform(df[['Condition1']])\n",
    "original_cond1_names = encoder.get_feature_names_out(['Condition1'])\n",
    "encoded_cond1_df = pd.DataFrame(encoded_cond1.toarray(), columns=original_cond1_names)\n",
    "\n",
    "encoded_cond2 = encoder.fit_transform(df[['Condition2']])\n",
    "original_cond2_names = encoder.get_feature_names_out(['Condition2'])\n",
    "encoded_cond2_df = pd.DataFrame(encoded_cond2.toarray(), columns=original_cond2_names)\n",
    "\n",
    "def df_union(df1, df2, prefix2, on=1):\n",
    "    combined_df = df1.copy()\n",
    "    \n",
    "    for i, row in df1.iterrows():\n",
    "        for col_name, _ in row.items():\n",
    "            df2_col_name = prefix2+\"_\"+col_name.split(\"_\")[1]\n",
    "            if df2_col_name in df2.columns.values:\n",
    "                if df2.loc[i][df2_col_name] == 1:\n",
    "                    combined_df.loc[i][col_name] = 1\n",
    "        \n",
    "    return combined_df\n",
    "\n",
    "\n",
    "encoded_conditions_df = df_union(encoded_cond1_df, encoded_cond2_df, \"Condition2\")\n",
    "df = df.drop([\"Condition1\", 'Condition2'], axis=1)\n",
    "df = df.append(encoded_conditions_df, ignore_index=True)\n",
    "\n",
    "df['HouseAge'] = df['YrSold'] - df['YearBuilt']\n",
    "df = df.drop('YrSold', axis=1)\n",
    "df = df.drop('MoSold', axis=1)\n",
    "df = df.drop('YearBuilt', axis=1)\n",
    "\n",
    "df['isRemodelled'] = df.apply(lambda x: 0 if x['YearRemodAdd'] == x['YearBuilt'] else 1, axis=1)\n",
    "df = df.drop('YearRemodAdd', axis=1)\n",
    "\n",
    " \n",
    "\n",
    "df = df.dropna(subset=['MasVnrType'])\n",
    "\n",
    "df['Fence'] = df['Fence'].fillna(\"NA\")"
   ]
  },
  {
   "cell_type": "code",
   "execution_count": null,
   "metadata": {},
   "outputs": [],
   "source": [
    "encoder = OneHotEncoder(sparse_output=False) # Initialize the OneHotEncoder\n",
    "encoded_data = encoder.fit_transform(df[['MSSubClass', 'MSZoning', 'BldgType', 'HouseStyle', 'Street', 'Alley', 'Neighborhood', 'Condition1', '', '', '', '', '', '', '', '', '', '', '', '', '', '', '', '', '', '', '', '']]) # Fit and transform the data\n",
    "column_names = encoder.get_feature_names_out(['GarageType']) # Create column names for the encoded variables\n",
    "df[column_names] = encoded_data # Concatenate the encoded columns to the original DataFrame"
   ]
  },
  {
   "cell_type": "code",
   "execution_count": 56,
   "metadata": {},
   "outputs": [
    {
     "data": {
      "text/plain": [
       "Id\n",
       "1       0\n",
       "2       0\n",
       "3       1\n",
       "4       1\n",
       "5       1\n",
       "       ..\n",
       "1456    0\n",
       "1457    0\n",
       "1458    0\n",
       "1459    0\n",
       "1460    0\n",
       "Name: LotShape, Length: 1460, dtype: int64"
      ]
     },
     "execution_count": 56,
     "metadata": {},
     "output_type": "execute_result"
    }
   ],
   "source": [
    "df['LotShape']"
   ]
  }
 ],
 "metadata": {
  "kernelspec": {
   "display_name": "Python 3",
   "language": "python",
   "name": "python3"
  },
  "language_info": {
   "codemirror_mode": {
    "name": "ipython",
    "version": 3
   },
   "file_extension": ".py",
   "mimetype": "text/x-python",
   "name": "python",
   "nbconvert_exporter": "python",
   "pygments_lexer": "ipython3",
   "version": "3.11.2"
  },
  "orig_nbformat": 4
 },
 "nbformat": 4,
 "nbformat_minor": 2
}
