{
 "cells": [
  {
   "cell_type": "code",
   "execution_count": 16,
   "metadata": {},
   "outputs": [],
   "source": [
    "import pandas as pd"
   ]
  },
  {
   "cell_type": "code",
   "execution_count": 18,
   "metadata": {},
   "outputs": [],
   "source": [
    "df = pd.read_csv(\"Original_datasets/train.csv\", index_col=\"Id\")\n",
    "df_test = pd.read_csv(\"Original_datasets/test.csv\", index_col=\"Id\")"
   ]
  },
  {
   "cell_type": "code",
   "execution_count": 19,
   "metadata": {},
   "outputs": [],
   "source": [
    "# Exploratory analysis\n",
    "df['HouseAge'] = df['YrSold'] - df['YearBuilt']\n",
    "df.drop(['MoSold', 'YrSold'], axis=1, inplace=True)\n",
    "\n",
    "df_test['HouseAge'] = df_test['YrSold'] - df_test['YearBuilt']\n",
    "df_test.drop(['MoSold', 'YrSold'], axis=1, inplace=True)\n",
    "\n",
    "\n",
    "\n",
    "\n",
    "df['isRemodelled'] = df.apply(lambda x: 0 if x['YearRemodAdd'] == x['YearBuilt'] else 1, axis=1)\n",
    "df['RemodelledYearsAgo'] = df['YearRemodAdd']-df['YearBuilt']\n",
    "\n",
    "df_test['isRemodelled'] = df_test.apply(lambda x: 0 if x['YearRemodAdd'] == x['YearBuilt'] else 1, axis=1)\n",
    "df_test['RemodelledYearsAgo'] = df_test['YearRemodAdd']-df_test['YearBuilt']\n",
    "\n",
    "\n",
    "\n",
    "\n",
    "df['BsmtFinSF'] = df['BsmtFinSF1'] + df['BsmtFinSF2']\n",
    "df.drop(['BsmtFinSF1', 'BsmtFinSF2'], axis=1, inplace=True)\n",
    "\n",
    "df_test['BsmtFinSF'] = df_test['BsmtFinSF1'] + df_test['BsmtFinSF2']\n",
    "df_test.drop(['BsmtFinSF1', 'BsmtFinSF2'], axis=1, inplace=True)\n",
    "\n",
    "\n",
    "\n",
    "\n",
    "df['ShedSF'] = df.apply(lambda x: x['MiscVal'] if x['MiscFeature']=='Shed' else 0, axis=1)\n",
    "df['isShed'] = df['MiscFeature'].apply(lambda x: 1 if x=='Shed' else 0)\n",
    "df.drop(['MiscFeature', 'MiscVal'], axis=1, inplace=True)\n",
    "\n",
    "df_test['ShedSF'] = df_test.apply(lambda x: x['MiscVal'] if x['MiscFeature']=='Shed' else 0, axis=1)\n",
    "df_test['isShed'] = df_test['MiscFeature'].apply(lambda x: 1 if x=='Shed' else 0)\n",
    "df_test.drop(['MiscFeature', 'MiscVal'], axis=1, inplace=True)"
   ]
  },
  {
   "cell_type": "code",
   "execution_count": 20,
   "metadata": {},
   "outputs": [],
   "source": [
    "df.to_csv('Post_EDA_datasets/train.csv', index=False)\n",
    "df_test.to_csv('Post_EDA_datasets/test.csv', index=False)"
   ]
  }
 ],
 "metadata": {
  "kernelspec": {
   "display_name": "Python 3",
   "language": "python",
   "name": "python3"
  },
  "language_info": {
   "codemirror_mode": {
    "name": "ipython",
    "version": 3
   },
   "file_extension": ".py",
   "mimetype": "text/x-python",
   "name": "python",
   "nbconvert_exporter": "python",
   "pygments_lexer": "ipython3",
   "version": "3.11.2"
  },
  "orig_nbformat": 4
 },
 "nbformat": 4,
 "nbformat_minor": 2
}
